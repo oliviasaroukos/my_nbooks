{
  "metadata": {
    "language_info": {
      "codemirror_mode": {
        "name": "python",
        "version": 3
      },
      "file_extension": ".py",
      "mimetype": "text/x-python",
      "name": "python",
      "nbconvert_exporter": "python",
      "pygments_lexer": "ipython3",
      "version": "3.8"
    },
    "kernelspec": {
      "name": "python",
      "display_name": "Python (Pyodide)",
      "language": "python"
    }
  },
  "nbformat_minor": 4,
  "nbformat": 4,
  "cells": [
    {
      "cell_type": "code",
      "source": "## Chapter 2 Assignment",
      "metadata": {},
      "execution_count": null,
      "outputs": []
    },
    {
      "cell_type": "code",
      "source": "## Olivia Saroukos",
      "metadata": {},
      "execution_count": null,
      "outputs": []
    },
    {
      "cell_type": "code",
      "source": "import pandas as pd",
      "metadata": {
        "trusted": true
      },
      "execution_count": 8,
      "outputs": []
    },
    {
      "cell_type": "code",
      "source": "import numpy as np",
      "metadata": {
        "trusted": true
      },
      "execution_count": 9,
      "outputs": []
    },
    {
      "cell_type": "code",
      "source": "df = pd.read_csv('ramenrating.csv')",
      "metadata": {
        "trusted": true
      },
      "execution_count": 10,
      "outputs": []
    },
    {
      "cell_type": "code",
      "source": "df.head()",
      "metadata": {
        "trusted": true
      },
      "execution_count": 11,
      "outputs": [
        {
          "execution_count": 11,
          "output_type": "execute_result",
          "data": {
            "text/plain": "            Brand                                            Variety Style  \\\n0       New Touch                          T's Restaurant Tantanmen    Cup   \n1        Just Way  Noodles Spicy Hot Sesame Spicy Hot Sesame Guan...  Pack   \n2          Nissin                      Cup Noodles Chicken Vegetable   Cup   \n3         Wei Lih                      GGE Ramen Snack Tomato Flavor  Pack   \n4  Ching's Secret                                    Singapore Curry  Pack   \n\n  Country  Stars  \n0   Japan   3.75  \n1  Taiwan   1.00  \n2     USA   2.25  \n3  Taiwan   2.75  \n4   India   3.75  ",
            "text/html": "<div>\n<style scoped>\n    .dataframe tbody tr th:only-of-type {\n        vertical-align: middle;\n    }\n\n    .dataframe tbody tr th {\n        vertical-align: top;\n    }\n\n    .dataframe thead th {\n        text-align: right;\n    }\n</style>\n<table border=\"1\" class=\"dataframe\">\n  <thead>\n    <tr style=\"text-align: right;\">\n      <th></th>\n      <th>Brand</th>\n      <th>Variety</th>\n      <th>Style</th>\n      <th>Country</th>\n      <th>Stars</th>\n    </tr>\n  </thead>\n  <tbody>\n    <tr>\n      <th>0</th>\n      <td>New Touch</td>\n      <td>T's Restaurant Tantanmen</td>\n      <td>Cup</td>\n      <td>Japan</td>\n      <td>3.75</td>\n    </tr>\n    <tr>\n      <th>1</th>\n      <td>Just Way</td>\n      <td>Noodles Spicy Hot Sesame Spicy Hot Sesame Guan...</td>\n      <td>Pack</td>\n      <td>Taiwan</td>\n      <td>1.00</td>\n    </tr>\n    <tr>\n      <th>2</th>\n      <td>Nissin</td>\n      <td>Cup Noodles Chicken Vegetable</td>\n      <td>Cup</td>\n      <td>USA</td>\n      <td>2.25</td>\n    </tr>\n    <tr>\n      <th>3</th>\n      <td>Wei Lih</td>\n      <td>GGE Ramen Snack Tomato Flavor</td>\n      <td>Pack</td>\n      <td>Taiwan</td>\n      <td>2.75</td>\n    </tr>\n    <tr>\n      <th>4</th>\n      <td>Ching's Secret</td>\n      <td>Singapore Curry</td>\n      <td>Pack</td>\n      <td>India</td>\n      <td>3.75</td>\n    </tr>\n  </tbody>\n</table>\n</div>"
          },
          "metadata": {}
        }
      ]
    },
    {
      "cell_type": "code",
      "source": "df.head(5)",
      "metadata": {
        "trusted": true
      },
      "execution_count": 12,
      "outputs": [
        {
          "execution_count": 12,
          "output_type": "execute_result",
          "data": {
            "text/plain": "            Brand                                            Variety Style  \\\n0       New Touch                          T's Restaurant Tantanmen    Cup   \n1        Just Way  Noodles Spicy Hot Sesame Spicy Hot Sesame Guan...  Pack   \n2          Nissin                      Cup Noodles Chicken Vegetable   Cup   \n3         Wei Lih                      GGE Ramen Snack Tomato Flavor  Pack   \n4  Ching's Secret                                    Singapore Curry  Pack   \n\n  Country  Stars  \n0   Japan   3.75  \n1  Taiwan   1.00  \n2     USA   2.25  \n3  Taiwan   2.75  \n4   India   3.75  ",
            "text/html": "<div>\n<style scoped>\n    .dataframe tbody tr th:only-of-type {\n        vertical-align: middle;\n    }\n\n    .dataframe tbody tr th {\n        vertical-align: top;\n    }\n\n    .dataframe thead th {\n        text-align: right;\n    }\n</style>\n<table border=\"1\" class=\"dataframe\">\n  <thead>\n    <tr style=\"text-align: right;\">\n      <th></th>\n      <th>Brand</th>\n      <th>Variety</th>\n      <th>Style</th>\n      <th>Country</th>\n      <th>Stars</th>\n    </tr>\n  </thead>\n  <tbody>\n    <tr>\n      <th>0</th>\n      <td>New Touch</td>\n      <td>T's Restaurant Tantanmen</td>\n      <td>Cup</td>\n      <td>Japan</td>\n      <td>3.75</td>\n    </tr>\n    <tr>\n      <th>1</th>\n      <td>Just Way</td>\n      <td>Noodles Spicy Hot Sesame Spicy Hot Sesame Guan...</td>\n      <td>Pack</td>\n      <td>Taiwan</td>\n      <td>1.00</td>\n    </tr>\n    <tr>\n      <th>2</th>\n      <td>Nissin</td>\n      <td>Cup Noodles Chicken Vegetable</td>\n      <td>Cup</td>\n      <td>USA</td>\n      <td>2.25</td>\n    </tr>\n    <tr>\n      <th>3</th>\n      <td>Wei Lih</td>\n      <td>GGE Ramen Snack Tomato Flavor</td>\n      <td>Pack</td>\n      <td>Taiwan</td>\n      <td>2.75</td>\n    </tr>\n    <tr>\n      <th>4</th>\n      <td>Ching's Secret</td>\n      <td>Singapore Curry</td>\n      <td>Pack</td>\n      <td>India</td>\n      <td>3.75</td>\n    </tr>\n  </tbody>\n</table>\n</div>"
          },
          "metadata": {}
        }
      ]
    },
    {
      "cell_type": "code",
      "source": "df.tail(5)",
      "metadata": {
        "trusted": true
      },
      "execution_count": 13,
      "outputs": [
        {
          "execution_count": 13,
          "output_type": "execute_result",
          "data": {
            "text/plain": "         Brand                                            Variety Style  \\\n2572     Vifon  Hu Tiu Nam Vang [\"Phnom Penh\" style] Asian Sty...  Bowl   \n2573   Wai Wai                     Oriental Style Instant Noodles  Pack   \n2574   Wai Wai                                     Tom Yum Shrimp  Pack   \n2575   Wai Wai                               Tom Yum Chili Flavor  Pack   \n2576  Westbrae                                         Miso Ramen  Pack   \n\n       Country  Stars  \n2572   Vietnam    3.5  \n2573  Thailand    1.0  \n2574  Thailand    2.0  \n2575  Thailand    2.0  \n2576       USA    0.5  ",
            "text/html": "<div>\n<style scoped>\n    .dataframe tbody tr th:only-of-type {\n        vertical-align: middle;\n    }\n\n    .dataframe tbody tr th {\n        vertical-align: top;\n    }\n\n    .dataframe thead th {\n        text-align: right;\n    }\n</style>\n<table border=\"1\" class=\"dataframe\">\n  <thead>\n    <tr style=\"text-align: right;\">\n      <th></th>\n      <th>Brand</th>\n      <th>Variety</th>\n      <th>Style</th>\n      <th>Country</th>\n      <th>Stars</th>\n    </tr>\n  </thead>\n  <tbody>\n    <tr>\n      <th>2572</th>\n      <td>Vifon</td>\n      <td>Hu Tiu Nam Vang [\"Phnom Penh\" style] Asian Sty...</td>\n      <td>Bowl</td>\n      <td>Vietnam</td>\n      <td>3.5</td>\n    </tr>\n    <tr>\n      <th>2573</th>\n      <td>Wai Wai</td>\n      <td>Oriental Style Instant Noodles</td>\n      <td>Pack</td>\n      <td>Thailand</td>\n      <td>1.0</td>\n    </tr>\n    <tr>\n      <th>2574</th>\n      <td>Wai Wai</td>\n      <td>Tom Yum Shrimp</td>\n      <td>Pack</td>\n      <td>Thailand</td>\n      <td>2.0</td>\n    </tr>\n    <tr>\n      <th>2575</th>\n      <td>Wai Wai</td>\n      <td>Tom Yum Chili Flavor</td>\n      <td>Pack</td>\n      <td>Thailand</td>\n      <td>2.0</td>\n    </tr>\n    <tr>\n      <th>2576</th>\n      <td>Westbrae</td>\n      <td>Miso Ramen</td>\n      <td>Pack</td>\n      <td>USA</td>\n      <td>0.5</td>\n    </tr>\n  </tbody>\n</table>\n</div>"
          },
          "metadata": {}
        }
      ]
    },
    {
      "cell_type": "code",
      "source": "df.describe()",
      "metadata": {
        "trusted": true
      },
      "execution_count": 16,
      "outputs": [
        {
          "execution_count": 16,
          "output_type": "execute_result",
          "data": {
            "text/plain": "             Stars\ncount  2577.000000\nmean      3.654676\nstd       1.015331\nmin       0.000000\n25%       3.250000\n50%       3.750000\n75%       4.250000\nmax       5.000000",
            "text/html": "<div>\n<style scoped>\n    .dataframe tbody tr th:only-of-type {\n        vertical-align: middle;\n    }\n\n    .dataframe tbody tr th {\n        vertical-align: top;\n    }\n\n    .dataframe thead th {\n        text-align: right;\n    }\n</style>\n<table border=\"1\" class=\"dataframe\">\n  <thead>\n    <tr style=\"text-align: right;\">\n      <th></th>\n      <th>Stars</th>\n    </tr>\n  </thead>\n  <tbody>\n    <tr>\n      <th>count</th>\n      <td>2577.000000</td>\n    </tr>\n    <tr>\n      <th>mean</th>\n      <td>3.654676</td>\n    </tr>\n    <tr>\n      <th>std</th>\n      <td>1.015331</td>\n    </tr>\n    <tr>\n      <th>min</th>\n      <td>0.000000</td>\n    </tr>\n    <tr>\n      <th>25%</th>\n      <td>3.250000</td>\n    </tr>\n    <tr>\n      <th>50%</th>\n      <td>3.750000</td>\n    </tr>\n    <tr>\n      <th>75%</th>\n      <td>4.250000</td>\n    </tr>\n    <tr>\n      <th>max</th>\n      <td>5.000000</td>\n    </tr>\n  </tbody>\n</table>\n</div>"
          },
          "metadata": {}
        }
      ]
    },
    {
      "cell_type": "code",
      "source": "df.value_counts(dropna=False)",
      "metadata": {
        "trusted": true
      },
      "execution_count": 17,
      "outputs": [
        {
          "execution_count": 17,
          "output_type": "execute_result",
          "data": {
            "text/plain": "Brand         Variety                                             Style  Country     Stars\nMyKuali       Penang Red Tom Yum Goong Noodle                     Pack   Malaysia    5.00     2\nNissin        Cup Noodles Moo Manao Flavour                       Cup    Thailand    4.00     2\nIndomie       Mi Goreng Jumbo Beef                                Pack   Indonesia   5.00     2\nWugudaochang  Sea Tangle & Sparerins Flavor Noodles               Bowl   China       3.75     2\nNissin        Raoh Rich Miso Flavor                               Bowl   Japan       5.00     2\n                                                                                             ..\nMama          Oriental Style Instant Noodles Hot & Spicy Flavour  Pack   Bangladesh  4.00     1\n              Oriental Style Instant Noodles Shrimp Flavour       Pack   Bangladesh  3.25     1\n              Oriental Style Instant Noodles Tandoori Flavour     Pack   Bangladesh  4.00     1\n              Pad Kee Mao Drunken                                 Pack   Thailand    2.00     1\niNoodle       Udon Noodle Soup Oriental                           Pack   Taiwan      3.75     1\nLength: 2572, dtype: int64"
          },
          "metadata": {}
        }
      ]
    },
    {
      "cell_type": "code",
      "source": "df.query",
      "metadata": {
        "trusted": true
      },
      "execution_count": 29,
      "outputs": [
        {
          "execution_count": 29,
          "output_type": "execute_result",
          "data": {
            "text/plain": "<bound method DataFrame.query of                Brand                                            Variety Style  \\\n0          New Touch                          T's Restaurant Tantanmen    Cup   \n1           Just Way  Noodles Spicy Hot Sesame Spicy Hot Sesame Guan...  Pack   \n2             Nissin                      Cup Noodles Chicken Vegetable   Cup   \n3            Wei Lih                      GGE Ramen Snack Tomato Flavor  Pack   \n4     Ching's Secret                                    Singapore Curry  Pack   \n...              ...                                                ...   ...   \n2572           Vifon  Hu Tiu Nam Vang [\"Phnom Penh\" style] Asian Sty...  Bowl   \n2573         Wai Wai                     Oriental Style Instant Noodles  Pack   \n2574         Wai Wai                                     Tom Yum Shrimp  Pack   \n2575         Wai Wai                               Tom Yum Chili Flavor  Pack   \n2576        Westbrae                                         Miso Ramen  Pack   \n\n       Country  Stars  \n0        Japan   3.75  \n1       Taiwan   1.00  \n2          USA   2.25  \n3       Taiwan   2.75  \n4        India   3.75  \n...        ...    ...  \n2572   Vietnam   3.50  \n2573  Thailand   1.00  \n2574  Thailand   2.00  \n2575  Thailand   2.00  \n2576       USA   0.50  \n\n[2577 rows x 5 columns]>"
          },
          "metadata": {}
        }
      ]
    },
    {
      "cell_type": "code",
      "source": "df.query[['Country == Vietnam']]",
      "metadata": {
        "trusted": true
      },
      "execution_count": 47,
      "outputs": [
        {
          "ename": "<class 'TypeError'>",
          "evalue": "'method' object is not subscriptable",
          "traceback": [
            "\u001b[0;31m---------------------------------------------------------------------------\u001b[0m",
            "\u001b[0;31mTypeError\u001b[0m                                 Traceback (most recent call last)",
            "Cell \u001b[0;32mIn[47], line 1\u001b[0m\n\u001b[0;32m----> 1\u001b[0m \u001b[43mdf\u001b[49m\u001b[38;5;241;43m.\u001b[39;49m\u001b[43mquery\u001b[49m\u001b[43m[\u001b[49m\u001b[43m[\u001b[49m\u001b[38;5;124;43m'\u001b[39;49m\u001b[38;5;124;43mCountry == Vietnam\u001b[39;49m\u001b[38;5;124;43m'\u001b[39;49m\u001b[43m]\u001b[49m\u001b[43m]\u001b[49m\n",
            "\u001b[0;31mTypeError\u001b[0m: 'method' object is not subscriptable"
          ],
          "output_type": "error"
        }
      ]
    },
    {
      "cell_type": "code",
      "source": "df[['Brand','Style']].head(2)",
      "metadata": {
        "trusted": true
      },
      "execution_count": 43,
      "outputs": [
        {
          "execution_count": 43,
          "output_type": "execute_result",
          "data": {
            "text/plain": "       Brand Style\n0  New Touch   Cup\n1   Just Way  Pack",
            "text/html": "<div>\n<style scoped>\n    .dataframe tbody tr th:only-of-type {\n        vertical-align: middle;\n    }\n\n    .dataframe tbody tr th {\n        vertical-align: top;\n    }\n\n    .dataframe thead th {\n        text-align: right;\n    }\n</style>\n<table border=\"1\" class=\"dataframe\">\n  <thead>\n    <tr style=\"text-align: right;\">\n      <th></th>\n      <th>Brand</th>\n      <th>Style</th>\n    </tr>\n  </thead>\n  <tbody>\n    <tr>\n      <th>0</th>\n      <td>New Touch</td>\n      <td>Cup</td>\n    </tr>\n    <tr>\n      <th>1</th>\n      <td>Just Way</td>\n      <td>Pack</td>\n    </tr>\n  </tbody>\n</table>\n</div>"
          },
          "metadata": {}
        }
      ]
    },
    {
      "cell_type": "code",
      "source": "df['Country']",
      "metadata": {
        "trusted": true
      },
      "execution_count": 45,
      "outputs": [
        {
          "execution_count": 45,
          "output_type": "execute_result",
          "data": {
            "text/plain": "0          Japan\n1         Taiwan\n2            USA\n3         Taiwan\n4          India\n          ...   \n2572     Vietnam\n2573    Thailand\n2574    Thailand\n2575    Thailand\n2576         USA\nName: Country, Length: 2577, dtype: object"
          },
          "metadata": {}
        }
      ]
    },
    {
      "cell_type": "code",
      "source": "df.sort_values('Stars', ascending=False).head(3)",
      "metadata": {
        "trusted": true
      },
      "execution_count": 53,
      "outputs": [
        {
          "execution_count": 53,
          "output_type": "execute_result",
          "data": {
            "text/plain": "            Brand                                            Variety Style  \\\n1585  Prima Taste                            Singapore Laksa La Mian  Pack   \n446      Maruchan  Instant Lunch Chipotle Chicken Flavor Ramen No...   Cup   \n484      Nongshim          Champong Noodle Soup Spicy Seafood Flavor  Pack   \n\n          Country  Stars  \n1585    Singapore    5.0  \n446           USA    5.0  \n484   South Korea    5.0  ",
            "text/html": "<div>\n<style scoped>\n    .dataframe tbody tr th:only-of-type {\n        vertical-align: middle;\n    }\n\n    .dataframe tbody tr th {\n        vertical-align: top;\n    }\n\n    .dataframe thead th {\n        text-align: right;\n    }\n</style>\n<table border=\"1\" class=\"dataframe\">\n  <thead>\n    <tr style=\"text-align: right;\">\n      <th></th>\n      <th>Brand</th>\n      <th>Variety</th>\n      <th>Style</th>\n      <th>Country</th>\n      <th>Stars</th>\n    </tr>\n  </thead>\n  <tbody>\n    <tr>\n      <th>1585</th>\n      <td>Prima Taste</td>\n      <td>Singapore Laksa La Mian</td>\n      <td>Pack</td>\n      <td>Singapore</td>\n      <td>5.0</td>\n    </tr>\n    <tr>\n      <th>446</th>\n      <td>Maruchan</td>\n      <td>Instant Lunch Chipotle Chicken Flavor Ramen No...</td>\n      <td>Cup</td>\n      <td>USA</td>\n      <td>5.0</td>\n    </tr>\n    <tr>\n      <th>484</th>\n      <td>Nongshim</td>\n      <td>Champong Noodle Soup Spicy Seafood Flavor</td>\n      <td>Pack</td>\n      <td>South Korea</td>\n      <td>5.0</td>\n    </tr>\n  </tbody>\n</table>\n</div>"
          },
          "metadata": {}
        }
      ]
    },
    {
      "cell_type": "code",
      "source": "df['Country'].replace('USA', 'United States', inplace=True)",
      "metadata": {
        "trusted": true
      },
      "execution_count": 55,
      "outputs": []
    },
    {
      "cell_type": "code",
      "source": "df.head(5)",
      "metadata": {
        "trusted": true
      },
      "execution_count": 56,
      "outputs": [
        {
          "execution_count": 56,
          "output_type": "execute_result",
          "data": {
            "text/plain": "            Brand                                            Variety Style  \\\n0       New Touch                          T's Restaurant Tantanmen    Cup   \n1        Just Way  Noodles Spicy Hot Sesame Spicy Hot Sesame Guan...  Pack   \n2          Nissin                      Cup Noodles Chicken Vegetable   Cup   \n3         Wei Lih                      GGE Ramen Snack Tomato Flavor  Pack   \n4  Ching's Secret                                    Singapore Curry  Pack   \n\n         Country  Stars  \n0          Japan   3.75  \n1         Taiwan   1.00  \n2  United States   2.25  \n3         Taiwan   2.75  \n4          India   3.75  ",
            "text/html": "<div>\n<style scoped>\n    .dataframe tbody tr th:only-of-type {\n        vertical-align: middle;\n    }\n\n    .dataframe tbody tr th {\n        vertical-align: top;\n    }\n\n    .dataframe thead th {\n        text-align: right;\n    }\n</style>\n<table border=\"1\" class=\"dataframe\">\n  <thead>\n    <tr style=\"text-align: right;\">\n      <th></th>\n      <th>Brand</th>\n      <th>Variety</th>\n      <th>Style</th>\n      <th>Country</th>\n      <th>Stars</th>\n    </tr>\n  </thead>\n  <tbody>\n    <tr>\n      <th>0</th>\n      <td>New Touch</td>\n      <td>T's Restaurant Tantanmen</td>\n      <td>Cup</td>\n      <td>Japan</td>\n      <td>3.75</td>\n    </tr>\n    <tr>\n      <th>1</th>\n      <td>Just Way</td>\n      <td>Noodles Spicy Hot Sesame Spicy Hot Sesame Guan...</td>\n      <td>Pack</td>\n      <td>Taiwan</td>\n      <td>1.00</td>\n    </tr>\n    <tr>\n      <th>2</th>\n      <td>Nissin</td>\n      <td>Cup Noodles Chicken Vegetable</td>\n      <td>Cup</td>\n      <td>United States</td>\n      <td>2.25</td>\n    </tr>\n    <tr>\n      <th>3</th>\n      <td>Wei Lih</td>\n      <td>GGE Ramen Snack Tomato Flavor</td>\n      <td>Pack</td>\n      <td>Taiwan</td>\n      <td>2.75</td>\n    </tr>\n    <tr>\n      <th>4</th>\n      <td>Ching's Secret</td>\n      <td>Singapore Curry</td>\n      <td>Pack</td>\n      <td>India</td>\n      <td>3.75</td>\n    </tr>\n  </tbody>\n</table>\n</div>"
          },
          "metadata": {}
        }
      ]
    },
    {
      "cell_type": "code",
      "source": "df.groupby('Country').mean().head(100)",
      "metadata": {
        "trusted": true
      },
      "execution_count": 67,
      "outputs": [
        {
          "name": "stderr",
          "text": "<ipython-input-67-676cddc11e73>:1: FutureWarning: The default value of numeric_only in DataFrameGroupBy.mean is deprecated. In a future version, numeric_only will default to False. Either specify numeric_only or select only columns which should be valid for the function.\n  df.groupby('Country').mean().head(100)\n",
          "output_type": "stream"
        },
        {
          "execution_count": 67,
          "output_type": "execute_result",
          "data": {
            "text/plain": "                  Stars\nCountry                \nAustralia      3.138636\nBangladesh     3.714286\nBrazil         4.350000\nCambodia       4.200000\nCanada         2.243902\nChina          3.421893\nColombia       3.291667\nDubai          3.583333\nEstonia        3.500000\nFiji           3.875000\nFinland        3.583333\nGermany        3.638889\nGhana          3.500000\nHolland        3.562500\nHong Kong      3.801825\nHungary        3.611111\nIndia          3.395161\nIndonesia      4.067460\nJapan          3.981605\nMalaysia       4.154194\nMexico         3.730000\nMyanmar        3.946429\nNepal          3.553571\nNetherlands    2.483333\nNigeria        1.500000\nPakistan       3.000000\nPhilippines    3.329787\nPoland         3.625000\nSarawak        4.333333\nSingapore      4.126147\nSouth Korea    3.790554\nSweden         3.250000\nTaiwan         3.665402\nThailand       3.384817\nUK             2.997101\nUnited States  3.457948\nVietnam        3.187963",
            "text/html": "<div>\n<style scoped>\n    .dataframe tbody tr th:only-of-type {\n        vertical-align: middle;\n    }\n\n    .dataframe tbody tr th {\n        vertical-align: top;\n    }\n\n    .dataframe thead th {\n        text-align: right;\n    }\n</style>\n<table border=\"1\" class=\"dataframe\">\n  <thead>\n    <tr style=\"text-align: right;\">\n      <th></th>\n      <th>Stars</th>\n    </tr>\n    <tr>\n      <th>Country</th>\n      <th></th>\n    </tr>\n  </thead>\n  <tbody>\n    <tr>\n      <th>Australia</th>\n      <td>3.138636</td>\n    </tr>\n    <tr>\n      <th>Bangladesh</th>\n      <td>3.714286</td>\n    </tr>\n    <tr>\n      <th>Brazil</th>\n      <td>4.350000</td>\n    </tr>\n    <tr>\n      <th>Cambodia</th>\n      <td>4.200000</td>\n    </tr>\n    <tr>\n      <th>Canada</th>\n      <td>2.243902</td>\n    </tr>\n    <tr>\n      <th>China</th>\n      <td>3.421893</td>\n    </tr>\n    <tr>\n      <th>Colombia</th>\n      <td>3.291667</td>\n    </tr>\n    <tr>\n      <th>Dubai</th>\n      <td>3.583333</td>\n    </tr>\n    <tr>\n      <th>Estonia</th>\n      <td>3.500000</td>\n    </tr>\n    <tr>\n      <th>Fiji</th>\n      <td>3.875000</td>\n    </tr>\n    <tr>\n      <th>Finland</th>\n      <td>3.583333</td>\n    </tr>\n    <tr>\n      <th>Germany</th>\n      <td>3.638889</td>\n    </tr>\n    <tr>\n      <th>Ghana</th>\n      <td>3.500000</td>\n    </tr>\n    <tr>\n      <th>Holland</th>\n      <td>3.562500</td>\n    </tr>\n    <tr>\n      <th>Hong Kong</th>\n      <td>3.801825</td>\n    </tr>\n    <tr>\n      <th>Hungary</th>\n      <td>3.611111</td>\n    </tr>\n    <tr>\n      <th>India</th>\n      <td>3.395161</td>\n    </tr>\n    <tr>\n      <th>Indonesia</th>\n      <td>4.067460</td>\n    </tr>\n    <tr>\n      <th>Japan</th>\n      <td>3.981605</td>\n    </tr>\n    <tr>\n      <th>Malaysia</th>\n      <td>4.154194</td>\n    </tr>\n    <tr>\n      <th>Mexico</th>\n      <td>3.730000</td>\n    </tr>\n    <tr>\n      <th>Myanmar</th>\n      <td>3.946429</td>\n    </tr>\n    <tr>\n      <th>Nepal</th>\n      <td>3.553571</td>\n    </tr>\n    <tr>\n      <th>Netherlands</th>\n      <td>2.483333</td>\n    </tr>\n    <tr>\n      <th>Nigeria</th>\n      <td>1.500000</td>\n    </tr>\n    <tr>\n      <th>Pakistan</th>\n      <td>3.000000</td>\n    </tr>\n    <tr>\n      <th>Philippines</th>\n      <td>3.329787</td>\n    </tr>\n    <tr>\n      <th>Poland</th>\n      <td>3.625000</td>\n    </tr>\n    <tr>\n      <th>Sarawak</th>\n      <td>4.333333</td>\n    </tr>\n    <tr>\n      <th>Singapore</th>\n      <td>4.126147</td>\n    </tr>\n    <tr>\n      <th>South Korea</th>\n      <td>3.790554</td>\n    </tr>\n    <tr>\n      <th>Sweden</th>\n      <td>3.250000</td>\n    </tr>\n    <tr>\n      <th>Taiwan</th>\n      <td>3.665402</td>\n    </tr>\n    <tr>\n      <th>Thailand</th>\n      <td>3.384817</td>\n    </tr>\n    <tr>\n      <th>UK</th>\n      <td>2.997101</td>\n    </tr>\n    <tr>\n      <th>United States</th>\n      <td>3.457948</td>\n    </tr>\n    <tr>\n      <th>Vietnam</th>\n      <td>3.187963</td>\n    </tr>\n  </tbody>\n</table>\n</div>"
          },
          "metadata": {}
        }
      ]
    },
    {
      "cell_type": "code",
      "source": "df.groupby('Country').agg(['mean']) \n",
      "metadata": {
        "trusted": true
      },
      "execution_count": 92,
      "outputs": [
        {
          "name": "stderr",
          "text": "<ipython-input-92-f5d315601503>:1: FutureWarning: ['Brand', 'Variety', 'Style'] did not aggregate successfully. If any error is raised this will raise in a future version of pandas. Drop these columns/ops to avoid this warning.\n  df.groupby('Country').agg(['mean'])\n",
          "output_type": "stream"
        },
        {
          "execution_count": 92,
          "output_type": "execute_result",
          "data": {
            "text/plain": "                  Stars\n                   mean\nCountry                \nAustralia      3.138636\nBangladesh     3.714286\nBrazil         4.350000\nCambodia       4.200000\nCanada         2.243902\nChina          3.421893\nColombia       3.291667\nDubai          3.583333\nEstonia        3.500000\nFiji           3.875000\nFinland        3.583333\nGermany        3.638889\nGhana          3.500000\nHolland        3.562500\nHong Kong      3.801825\nHungary        3.611111\nIndia          3.395161\nIndonesia      4.067460\nJapan          3.981605\nMalaysia       4.154194\nMexico         3.730000\nMyanmar        3.946429\nNepal          3.553571\nNetherlands    2.483333\nNigeria        1.500000\nPakistan       3.000000\nPhilippines    3.329787\nPoland         3.625000\nSarawak        4.333333\nSingapore      4.126147\nSouth Korea    3.790554\nSweden         3.250000\nTaiwan         3.665402\nThailand       3.384817\nUK             2.997101\nUnited States  3.457948\nVietnam        3.187963",
            "text/html": "<div>\n<style scoped>\n    .dataframe tbody tr th:only-of-type {\n        vertical-align: middle;\n    }\n\n    .dataframe tbody tr th {\n        vertical-align: top;\n    }\n\n    .dataframe thead tr th {\n        text-align: left;\n    }\n\n    .dataframe thead tr:last-of-type th {\n        text-align: right;\n    }\n</style>\n<table border=\"1\" class=\"dataframe\">\n  <thead>\n    <tr>\n      <th></th>\n      <th>Stars</th>\n    </tr>\n    <tr>\n      <th></th>\n      <th>mean</th>\n    </tr>\n    <tr>\n      <th>Country</th>\n      <th></th>\n    </tr>\n  </thead>\n  <tbody>\n    <tr>\n      <th>Australia</th>\n      <td>3.138636</td>\n    </tr>\n    <tr>\n      <th>Bangladesh</th>\n      <td>3.714286</td>\n    </tr>\n    <tr>\n      <th>Brazil</th>\n      <td>4.350000</td>\n    </tr>\n    <tr>\n      <th>Cambodia</th>\n      <td>4.200000</td>\n    </tr>\n    <tr>\n      <th>Canada</th>\n      <td>2.243902</td>\n    </tr>\n    <tr>\n      <th>China</th>\n      <td>3.421893</td>\n    </tr>\n    <tr>\n      <th>Colombia</th>\n      <td>3.291667</td>\n    </tr>\n    <tr>\n      <th>Dubai</th>\n      <td>3.583333</td>\n    </tr>\n    <tr>\n      <th>Estonia</th>\n      <td>3.500000</td>\n    </tr>\n    <tr>\n      <th>Fiji</th>\n      <td>3.875000</td>\n    </tr>\n    <tr>\n      <th>Finland</th>\n      <td>3.583333</td>\n    </tr>\n    <tr>\n      <th>Germany</th>\n      <td>3.638889</td>\n    </tr>\n    <tr>\n      <th>Ghana</th>\n      <td>3.500000</td>\n    </tr>\n    <tr>\n      <th>Holland</th>\n      <td>3.562500</td>\n    </tr>\n    <tr>\n      <th>Hong Kong</th>\n      <td>3.801825</td>\n    </tr>\n    <tr>\n      <th>Hungary</th>\n      <td>3.611111</td>\n    </tr>\n    <tr>\n      <th>India</th>\n      <td>3.395161</td>\n    </tr>\n    <tr>\n      <th>Indonesia</th>\n      <td>4.067460</td>\n    </tr>\n    <tr>\n      <th>Japan</th>\n      <td>3.981605</td>\n    </tr>\n    <tr>\n      <th>Malaysia</th>\n      <td>4.154194</td>\n    </tr>\n    <tr>\n      <th>Mexico</th>\n      <td>3.730000</td>\n    </tr>\n    <tr>\n      <th>Myanmar</th>\n      <td>3.946429</td>\n    </tr>\n    <tr>\n      <th>Nepal</th>\n      <td>3.553571</td>\n    </tr>\n    <tr>\n      <th>Netherlands</th>\n      <td>2.483333</td>\n    </tr>\n    <tr>\n      <th>Nigeria</th>\n      <td>1.500000</td>\n    </tr>\n    <tr>\n      <th>Pakistan</th>\n      <td>3.000000</td>\n    </tr>\n    <tr>\n      <th>Philippines</th>\n      <td>3.329787</td>\n    </tr>\n    <tr>\n      <th>Poland</th>\n      <td>3.625000</td>\n    </tr>\n    <tr>\n      <th>Sarawak</th>\n      <td>4.333333</td>\n    </tr>\n    <tr>\n      <th>Singapore</th>\n      <td>4.126147</td>\n    </tr>\n    <tr>\n      <th>South Korea</th>\n      <td>3.790554</td>\n    </tr>\n    <tr>\n      <th>Sweden</th>\n      <td>3.250000</td>\n    </tr>\n    <tr>\n      <th>Taiwan</th>\n      <td>3.665402</td>\n    </tr>\n    <tr>\n      <th>Thailand</th>\n      <td>3.384817</td>\n    </tr>\n    <tr>\n      <th>UK</th>\n      <td>2.997101</td>\n    </tr>\n    <tr>\n      <th>United States</th>\n      <td>3.457948</td>\n    </tr>\n    <tr>\n      <th>Vietnam</th>\n      <td>3.187963</td>\n    </tr>\n  </tbody>\n</table>\n</div>"
          },
          "metadata": {}
        }
      ]
    },
    {
      "cell_type": "code",
      "source": "",
      "metadata": {},
      "execution_count": null,
      "outputs": []
    }
  ]
}